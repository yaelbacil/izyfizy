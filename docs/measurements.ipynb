{
 "cells": [
  {
   "cell_type": "markdown",
   "id": "d8654c7b",
   "metadata": {},
   "source": [
    "# Measurements\n",
    "\n",
    "The measurements subpackage of `izyfizy` is used to manage properties of measurements easily, to make sure you will just need to take your measurements and we will do all the calculations for you."
   ]
  },
  {
   "cell_type": "code",
   "execution_count": 5,
   "id": "414c9454",
   "metadata": {},
   "outputs": [
    {
     "data": {
      "text/plain": [
       "Measurements(measurements=array([1, 2, 4]), instrument_uncertainty=0.1)"
      ]
     },
     "execution_count": 5,
     "metadata": {},
     "output_type": "execute_result"
    }
   ],
   "source": [
    "import numpy as np\n",
    "\n",
    "from src.measurements import Measurements\n",
    "\n",
    "m = Measurements(measurements=np.array([1, 2, 4]), instrument_uncertainty=0.1)\n",
    "m"
   ]
  },
  {
   "cell_type": "code",
   "execution_count": 30,
   "id": "a4599d88",
   "metadata": {},
   "outputs": [
    {
     "data": {
      "text/latex": [
       "$\\displaystyle \\mu = \\texttt{m.expected\\_value} = 2.3333333333333335$"
      ],
      "text/plain": [
       "<IPython.core.display.Math object>"
      ]
     },
     "execution_count": 30,
     "metadata": {},
     "output_type": "execute_result"
    }
   ],
   "source": [
    "import sympy as sp\n",
    "from IPython.display import Math\n",
    "\n",
    "# Calculate the expected value\n",
    "mu = sp.Symbol(\"mu\")\n",
    "code = r\"\\texttt{m.expected\\_value}\"\n",
    "\n",
    "expected_value_expression = f\"{sp.latex(mu)} = {code} = {m.expected_value}\"\n",
    "\n",
    "Math(expected_value_expression)"
   ]
  },
  {
   "cell_type": "code",
   "execution_count": null,
   "id": "f3aedc9f",
   "metadata": {},
   "outputs": [
    {
     "data": {
      "text/latex": [
       "$\\displaystyle \\sigma = \\texttt{m.standard\\_deviation} = 1.5275252316519465$"
      ],
      "text/plain": [
       "<IPython.core.display.Math object>"
      ]
     },
     "execution_count": 31,
     "metadata": {},
     "output_type": "execute_result"
    }
   ],
   "source": [
    "# Calculate the standard deviation\n",
    "\n",
    "sigma = sp.Symbol(\"sigma\")\n",
    "code = r\"\\texttt{m.standard\\_deviation}\"\n",
    "\n",
    "standard_deviation_expression = f\"{sp.latex(sigma)} = {code} = {m.standard_deviation}\"\n",
    "\n",
    "Math(standard_deviation_expression)"
   ]
  },
  {
   "cell_type": "code",
   "execution_count": 32,
   "id": "e0a0c703",
   "metadata": {},
   "outputs": [
    {
     "data": {
      "text/latex": [
       "$\\displaystyle SEM = \\texttt{m.standard\\_error\\_of\\_the\\_mean} = 0.8819171036881969$"
      ],
      "text/plain": [
       "<IPython.core.display.Math object>"
      ]
     },
     "execution_count": 32,
     "metadata": {},
     "output_type": "execute_result"
    }
   ],
   "source": [
    "# Calculate the SEM\n",
    "\n",
    "sem = sp.Symbol(\"SEM\")\n",
    "code = r\"\\texttt{m.standard\\_error\\_of\\_the\\_mean}\"\n",
    "\n",
    "standard_error_of_the_mean_expression = f\"{sp.latex(sem)} = {code} = {m.standard_error_of_the_mean}\"\n",
    "\n",
    "Math(standard_error_of_the_mean_expression)"
   ]
  }
 ],
 "metadata": {
  "kernelspec": {
   "display_name": ".venv",
   "language": "python",
   "name": "python3"
  },
  "language_info": {
   "codemirror_mode": {
    "name": "ipython",
    "version": 3
   },
   "file_extension": ".py",
   "mimetype": "text/x-python",
   "name": "python",
   "nbconvert_exporter": "python",
   "pygments_lexer": "ipython3",
   "version": "3.13.0"
  }
 },
 "nbformat": 4,
 "nbformat_minor": 5
}
